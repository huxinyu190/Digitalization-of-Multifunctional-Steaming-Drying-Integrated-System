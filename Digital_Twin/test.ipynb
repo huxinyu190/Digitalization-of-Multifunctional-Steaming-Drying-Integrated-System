{
 "cells": [
  {
   "metadata": {
    "ExecuteTime": {
     "end_time": "2025-04-11T06:53:20.403379Z",
     "start_time": "2025-04-11T06:53:19.425414Z"
    }
   },
   "cell_type": "code",
   "source": [
    "## 导入库 \n",
    "import numpy as np\n",
    "import pandas as pd\n",
    "from CoolProp import CoolProp\n",
    "k = 3\n",
    "a = np.array([1, 2, k])\n",
    "c = np.dot(a, a.T)\n",
    "print(c)\n"
   ],
   "id": "41c4ed38e295900",
   "outputs": [
    {
     "name": "stdout",
     "output_type": "stream",
     "text": [
      "14\n"
     ]
    }
   ],
   "execution_count": 2
  },
  {
   "metadata": {
    "ExecuteTime": {
     "end_time": "2025-04-11T06:53:35.260090Z",
     "start_time": "2025-04-11T06:53:35.257216Z"
    }
   },
   "cell_type": "code",
   "source": [
    "## 参数输入（量纲为质量（kg）、长度（m）、时间（s）、温度（K）、物质的量（mol））\n",
    "# 可变参数\n",
    "t = 8*3600                  # 系统运行的时间\n",
    "Q_c = 4000000               # 物料需要的能量\n",
    "\n",
    "# 固定参数\n",
    "m_v = 6.94e-4               # 蒸汽质量流量\n",
    "gamma = 2257.1*1000         # 汽化潜热\n",
    "M = 18.015e-6               # 水蒸气摩尔质量\n",
    "R = 8.3145                  # 气体常数\n",
    "R_g = R/M                   # 水蒸气的气体常数\n",
    "c_pw = 4188.2               # 水的等压比热容\n",
    "T_0 = 293.15                # 环境温度\n",
    "eta_steamGenerator = 0.98   # 蒸汽发生器效率\n",
    "\n",
    "# 状态点参数。第一行为水的相态，1为液态，2为气态；第二行为绝对压力(Pa)；第三行为温度(K).\n",
    "statePoint = np.array([[1, 2, 2, 1], [101325, 1002700, 198540, 101325], [293.15, 453.15, 393.15, 293.15]])\n",
    "\n",
    "\n",
    "\n",
    "\n"
   ],
   "id": "4ebcc792849f0537",
   "outputs": [],
   "execution_count": 4
  },
  {
   "metadata": {
    "ExecuteTime": {
     "end_time": "2025-04-10T14:10:28.781136Z",
     "start_time": "2025-04-10T14:10:28.778136Z"
    }
   },
   "cell_type": "code",
   "source": "",
   "id": "efb698d1fbe20abe",
   "outputs": [
    {
     "ename": "IndentationError",
     "evalue": "unindent does not match any outer indentation level (<string>, line 6)",
     "output_type": "error",
     "traceback": [
      "  \u001B[36mFile \u001B[39m\u001B[32m<string>:6\u001B[39m\n\u001B[31m    \u001B[39m\u001B[31mk = cpwater(273.15)\u001B[39m\n                       ^\n\u001B[31mIndentationError\u001B[39m\u001B[31m:\u001B[39m unindent does not match any outer indentation level\n"
     ]
    }
   ],
   "execution_count": 39
  },
  {
   "metadata": {
    "ExecuteTime": {
     "end_time": "2025-04-11T07:02:40.260397Z",
     "start_time": "2025-04-11T07:02:40.255536Z"
    }
   },
   "cell_type": "code",
   "source": [
    "def exergyLoss_water(n, m, statePoint):\n",
    "    '''计算n到m过程水蒸汽（水）的㶲损失'''\n",
    "    DEnthalpy = CoolProp.PropsSI('H', 'T', statePoint[2][n-1], 'P', statePoint[1][n-1], 'Water') - CoolProp.PropsSI('H', 'T', statePoint[2][m-1], 'P', statePoint[1][m-1], 'Water')\n",
    "    DEntropy = CoolProp.PropsSI('S', 'T', statePoint[2][n-1], 'P', statePoint[1][n-1], 'Water') - CoolProp.PropsSI('S', 'T', statePoint[2][m-1], 'P', statePoint[1][m-1], 'Water')\n",
    "    E_loss = (DEnthalpy - T_0*DEntropy)*t*m_v\n",
    "    return E_loss\n",
    "\n",
    "\n",
    "print(exergyLoss_water(2, 3, statePoint)/1000)\n",
    "    \n",
    "\n",
    "\n",
    "\n"
   ],
   "id": "847eeb7c46f32f5c",
   "outputs": [
    {
     "name": "stdout",
     "output_type": "stream",
     "text": [
      "4620.0486336267095\n"
     ]
    }
   ],
   "execution_count": 7
  },
  {
   "metadata": {},
   "cell_type": "code",
   "outputs": [],
   "execution_count": null,
   "source": "",
   "id": "d3faed2a5a98a421"
  },
  {
   "metadata": {
    "ExecuteTime": {
     "end_time": "2025-08-05T02:59:56.743138Z",
     "start_time": "2025-08-05T02:59:56.616533Z"
    }
   },
   "cell_type": "code",
   "source": [
    "import numpy as np\n",
    "np.product = np.prod\n",
    "\n",
    "\n",
    "import pandas as pd\n",
    "from symfit import parameters, variables, exp, log, Fit, Model\n",
    "from sympy import lambdify\n",
    "\n",
    "\n",
    "import pickle\n",
    "data = pd.read_csv('./process/The_MC_variation_during_the_steaming_process.csv')\n",
    "\n",
    "data = np.array(data.iloc[:, :6].values)\n",
    "print(data)\n",
    "\n",
    "MC_raw = 21.098\n",
    "\n",
    "j = 0\n",
    "n = len(data)\n",
    "t = np.zeros(n)\n",
    "remove = np.array([4, 6, 8])\n",
    "\n",
    "\n",
    "X0 = np.zeros(n)\n",
    "X = np.zeros(n)\n",
    "for i in range(0, n):\n",
    "    if data[i][3] == 0:\n",
    "        t[j] = data[i][0]\n",
    "        X0[j] = MC_raw\n",
    "        j += 1\n",
    "    else:\n",
    "        if data[i][0] - data[i-1][0] > 0:\n",
    "            t[j] = data[i][0] - data[i-1][0]\n",
    "            X0[j] = data[i-1][5]\n",
    "            j += 1\n",
    "\n",
    "j = 0\n",
    "tau = np.zeros(n)\n",
    "T = np.zeros(n)\n",
    "for i in range(0, n-1):\n",
    "    if data[i+1][0] - data[i][0] == 0:\n",
    "        tau[j] = data[i][2]\n",
    "        T[j] = data[i][4]\n",
    "        X[j] = data[i][5]\n",
    "        j += 1\n",
    "        \n",
    "data_t = t[:j]\n",
    "data_X0 = X0[:j]\n",
    "data_tau = tau[:j]\n",
    "data_T = T[:j]\n",
    "data_X = X[:j]\n",
    "\n",
    "\n",
    " \n",
    "data_t = np.delete(data_t, remove)\n",
    "data_tau = np.delete(data_tau, remove)\n",
    "data_T = np.delete(data_T, remove)\n",
    "data_X0 = np.delete(data_X0, remove)\n",
    "data_X = np.delete(data_X, remove)\n",
    "print(data_t, data_tau, data_T, data_X0, data_X)\n",
    "\n",
    "t, tau, T, X0, X = variables('t, tau, T, X0, X')\n",
    "# k, a1, b1, C1, a2, b2 = parameters('k, a1, b1, C1, a2, b2')\n",
    "k, a1, b1, a2, b2 = parameters('k, a1, b1, a2, b2')\n",
    "# k, a1, b1, a2 = parameters('k, a1, b1, a2')\n",
    "\n",
    "expr = (1 - exp(-k * t)) * ((a1 * T + b1) * log(tau + 1) + (a2 * T + b2)) + X0 * exp(-k * t)\n",
    "model = Model({X: expr})\n",
    "\n",
    "# 设置参数初始值及边界\n",
    "# a1=-0.2335, b1=2.4007, a2=0.3830, b2=45.7341, C1=4.3970, k=0.2576\n",
    "\n",
    "k.value, k.min, k.max = 0.2576, 0.01, 5.0\n",
    "C1.value, C1.min = 4.3970, 0.1  # 避免 log(负数)\n",
    "a1.value = -0.2335\n",
    "b1.value = 2.4007\n",
    "a2.value = 0.3830\n",
    "b2.value = 45.7341\n",
    "\n",
    "fit = Fit(model, t=data_t, tau=data_tau, T=data_T, X0=data_X0, X=data_X)\n",
    "\n",
    "fit_result = fit.execute()\n",
    "\n",
    "with open(\"fit_result.pkl\", \"wb\") as f:\n",
    "    pickle.dump(fit_result, f)\n",
    "# 加载恢复\n",
    "with open(\"fit_result.pkl\", \"rb\") as f:\n",
    "    fit_result_1 = pickle.load(f)\n",
    "# 输出结果\n",
    "print(fit_result_1)\n",
    "print(f\"R² = {fit_result_1.r_squared:.4f}\")\n",
    "\n",
    "\n",
    "k = fit_result.params['k']\n",
    "\n",
    "print(k)\n",
    "\n",
    "\n"
   ],
   "id": "19264f09cfd153e5",
   "outputs": [
    {
     "name": "stdout",
     "output_type": "stream",
     "text": [
      "[[ 8.       1.       0.       0.      75.      48.63313 17.46   ]\n",
      " [ 8.       1.       8.       1.      75.      23.522   16.01   ]\n",
      " [16.       2.       8.       1.      75.      35.576   14.9    ]\n",
      " [16.       2.      16.       2.      75.      14.844   11.86   ]\n",
      " [24.       3.      16.       2.      75.      27.05933 10.96   ]\n",
      " [24.       3.      24.       3.      75.       9.83     7.4    ]\n",
      " [ 4.       1.       0.       0.      65.      38.446   11.26   ]\n",
      " [ 4.       1.       8.       1.      65.      24.698    9.5    ]\n",
      " [ 8.       2.       8.       1.      65.      26.382    7.89   ]\n",
      " [ 8.       2.      16.       2.      65.      20.614    6.26   ]\n",
      " [12.       3.      16.       2.      65.      27.612    7.65   ]\n",
      " [12.       3.      24.       3.      65.      17.342    5.88   ]\n",
      " [16.       4.      24.       3.      65.      18.956    7.62   ]\n",
      " [16.       4.      32.       4.      65.      14.238    5.68   ]\n",
      " [20.       5.      32.       4.      65.      20.255    7.5    ]\n",
      " [20.       5.      40.       5.      65.      11.684    5.54   ]\n",
      " [24.       6.      40.       5.      65.      21.166    7.45   ]\n",
      " [24.       6.      48.       6.      65.      12.46     5.46   ]\n",
      " [ 4.       1.       0.       0.      55.      42.43143 12.18   ]\n",
      " [ 4.       1.       8.       1.      55.      37.44167 11.46   ]\n",
      " [ 8.       2.       8.       1.      55.      37.9     11.58   ]\n",
      " [ 8.       2.      16.       2.      55.      28.594   10.78   ]\n",
      " [12.       3.      16.       2.      55.      32.575   10.65   ]\n",
      " [12.       3.      24.       3.      55.      22.85833  9.74   ]\n",
      " [16.       4.      24.       3.      55.      30.32743 10.14   ]\n",
      " [16.       4.      32.       4.      55.      19.425    8.13   ]]\n",
      "[8. 8. 8. 4. 4. 4. 4. 4. 4. 4.] [ 0.  8. 16.  0. 16. 32.  0.  8. 16. 24.] [75. 75. 75. 65. 65. 65. 55. 55. 55. 55.] [21.098   23.522   14.844   21.098   20.614   14.238   21.098   37.44167\n",
      " 28.594   22.85833] [48.63313 35.576   27.05933 38.446   27.612   20.255   42.43143 37.9\n",
      " 32.575   30.32743]\n",
      "\n",
      "Parameter Value        Standard Deviation\n",
      "a1        -3.334605e-02 1.054240e-01\n",
      "a2        -1.518652e-01 2.512557e-01\n",
      "b1        -6.458333e+00 7.805798e+00\n",
      "b2        6.855686e+01 2.086771e+01\n",
      "k         1.777234e-01 5.125324e-02\n",
      "Status message         CONVERGENCE: RELATIVE REDUCTION OF F <= FACTR*EPSMCH\n",
      "Number of iterations   49\n",
      "Objective              <symfit.core.objectives.LeastSquares object at 0x000002179EF9BFE0>\n",
      "Minimizer              <symfit.core.minimizers.LBFGSB object at 0x000002179EF9C260>\n",
      "\n",
      "Goodness of fit qualifiers:\n",
      "chi_squared            17.015934822274428\n",
      "objective_value        8.507967411137214\n",
      "r_squared              0.9723782800915209\n",
      "R² = 0.9724\n",
      "0.17772342647099496\n"
     ]
    }
   ],
   "execution_count": 44
  },
  {
   "metadata": {
    "ExecuteTime": {
     "end_time": "2025-08-05T02:59:40.095649Z",
     "start_time": "2025-08-05T02:59:39.918031Z"
    }
   },
   "cell_type": "code",
   "source": [
    "from symfit import variables, parameters, Model, exp, log, Fit\n",
    "import numpy as np\n",
    "np.product = np.prod\n",
    "\n",
    "# 定义变量和参数\n",
    "t, tau, T, X0, X = variables('t, tau, T, X0, X')\n",
    "k, a1, b1, C1, a2, b2 = parameters('k, a1, b1, C1, a2, b2')\n",
    "\n",
    "# 构建模型\n",
    "expr = (1 - exp(-k * t)) * ((a1 * T + b1) * log(tau + C1) + (a2 * T + b2)) + X0 * exp(-k * t)\n",
    "model = Model({X: expr})\n",
    "\n",
    "# 设置参数初始值及边界\n",
    "k.value, k.min, k.max = 0.5, 0.01, 5.0\n",
    "C1.value, C1.min = 1.0, 0.1  # 避免 log(负数)\n",
    "\n",
    "# 生成模拟数据（替换为实际数据）\n",
    "t_data = np.linspace(0, 10, 100)\n",
    "tau_data = np.random.uniform(1, 5, 100)\n",
    "T_data = np.linspace(20, 30, 100)\n",
    "X0_data = np.full(100, 0.5)\n",
    "\n",
    "print(t_data)\n",
    "X_data = model(t=t_data, tau=tau_data, T=T_data, X0=X0_data, k=0.3, a1=0.2, b1=0.1, C1=1.0, a2=-0.1, b2=0.4).X\n",
    "X_data += np.random.normal(0, 0.05, 100)  # 添加噪声\n",
    "\n",
    "# 执行拟合\n",
    "print(type(X_data))\n",
    "fit = Fit(model, t=t_data, tau=tau_data, T=T_data, X0=X0_data, X=X_data)\n",
    "result = fit.execute()\n",
    "\n",
    "# 输出结果\n",
    "print(result)\n",
    "print(f\"R² = {result.r_squared:.4f}\")"
   ],
   "id": "13125592b971a4ea",
   "outputs": [
    {
     "name": "stdout",
     "output_type": "stream",
     "text": [
      "[ 0.          0.1010101   0.2020202   0.3030303   0.4040404   0.50505051\n",
      "  0.60606061  0.70707071  0.80808081  0.90909091  1.01010101  1.11111111\n",
      "  1.21212121  1.31313131  1.41414141  1.51515152  1.61616162  1.71717172\n",
      "  1.81818182  1.91919192  2.02020202  2.12121212  2.22222222  2.32323232\n",
      "  2.42424242  2.52525253  2.62626263  2.72727273  2.82828283  2.92929293\n",
      "  3.03030303  3.13131313  3.23232323  3.33333333  3.43434343  3.53535354\n",
      "  3.63636364  3.73737374  3.83838384  3.93939394  4.04040404  4.14141414\n",
      "  4.24242424  4.34343434  4.44444444  4.54545455  4.64646465  4.74747475\n",
      "  4.84848485  4.94949495  5.05050505  5.15151515  5.25252525  5.35353535\n",
      "  5.45454545  5.55555556  5.65656566  5.75757576  5.85858586  5.95959596\n",
      "  6.06060606  6.16161616  6.26262626  6.36363636  6.46464646  6.56565657\n",
      "  6.66666667  6.76767677  6.86868687  6.96969697  7.07070707  7.17171717\n",
      "  7.27272727  7.37373737  7.47474747  7.57575758  7.67676768  7.77777778\n",
      "  7.87878788  7.97979798  8.08080808  8.18181818  8.28282828  8.38383838\n",
      "  8.48484848  8.58585859  8.68686869  8.78787879  8.88888889  8.98989899\n",
      "  9.09090909  9.19191919  9.29292929  9.39393939  9.49494949  9.5959596\n",
      "  9.6969697   9.7979798   9.8989899  10.        ]\n",
      "<class 'numpy.ndarray'>\n",
      "\n",
      "Parameter Value        Standard Deviation\n",
      "C1        9.258690e-01 1.044372e-01\n",
      "a1        1.811487e-01 3.309650e-02\n",
      "a2        -8.883124e-02 2.373393e-02\n",
      "b1        6.310743e-01 1.072948e+00\n",
      "b2        2.909454e-01 5.939401e-01\n",
      "k         2.777611e-01 3.000672e-02\n",
      "Status message         CONVERGENCE: RELATIVE REDUCTION OF F <= FACTR*EPSMCH\n",
      "Number of iterations   59\n",
      "Objective              <symfit.core.objectives.LeastSquares object at 0x000002179BA7BB90>\n",
      "Minimizer              <symfit.core.minimizers.LBFGSB object at 0x000002179DB3DFA0>\n",
      "\n",
      "Goodness of fit qualifiers:\n",
      "chi_squared            0.24346402397974745\n",
      "objective_value        0.12173201198987373\n",
      "r_squared              0.9992514754968602\n",
      "R² = 0.9993\n"
     ]
    }
   ],
   "execution_count": 42
  },
  {
   "metadata": {
    "ExecuteTime": {
     "end_time": "2025-08-04T03:23:21.389395Z",
     "start_time": "2025-08-04T03:23:21.385272Z"
    }
   },
   "cell_type": "code",
   "source": [
    "from CoolProp import CoolProp\n",
    "delta_enthalpy = CoolProp.PropsSI('H', 'T', 453.15, 'P', 1002700,\n",
    "                                      'Water') - CoolProp.PropsSI('H', 'T', 293.15, 'P',\n",
    "                                                                  101325, 'Water')\n",
    "print(delta_enthalpy * 0.0002778 / 1000)\n"
   ],
   "id": "429aa7731aede1c3",
   "outputs": [
    {
     "name": "stdout",
     "output_type": "stream",
     "text": [
      "0.7481755307676494\n"
     ]
    }
   ],
   "execution_count": 31
  },
  {
   "metadata": {
    "ExecuteTime": {
     "end_time": "2025-08-05T03:22:25.674287Z",
     "start_time": "2025-08-05T03:22:25.663620Z"
    }
   },
   "cell_type": "code",
   "source": [
    "import numpy as np\n",
    "np.product = np.prod\n",
    "import pandas as pd\n",
    "from symfit import parameters, variables, exp, log, Fit, Model\n",
    "from process import energyAnalysis as eA\n",
    "import pickle\n",
    "import os\n",
    "\n",
    "\n",
    "def steaming_process(t):\n",
    "    \"\"\"蒸制过程的参数\"\"\"\n",
    "    t = t * 3600                # 系统运行的时间\n",
    "    m_v = 6.78e-4               # 蒸汽质量流量   6.94e-4\n",
    "    T_0 = 293.15                # 环境温度\n",
    "    eta_steamGenerator = 0.90   # 蒸汽发生器效率\n",
    "    state_point = np.array([[1, 2, 2, 1], [101325, 1002700, 198540, 101325], [293.15, 453.15, 453.15, 293.15]])  # 温度 293.15, 453.15, 393.15, 293.15\n",
    "\n",
    "    exergy_loss_steamGenerator = eA.exergy_water(1, state_point, t, T_0, m_v) - eA.exergy_water(2, state_point, t, T_0, m_v)\n",
    "    exergy_loss_valve = eA.exergy_water(2, state_point, t, T_0, m_v) - eA.exergy_water(3, state_point, t, T_0, m_v)\n",
    "    exergy_loss_tank = eA.exergy_water(3, state_point, t, T_0, m_v) - eA.exergy_water(4, state_point, t, T_0, m_v)\n",
    "\n",
    "    print(\"蒸汽发生器的㶲损为：{:.2f} kJ\".format(exergy_loss_steamGenerator / 1000))\n",
    "    print(\"蒸汽通过控制阀㶲损为：{:.2f} kJ\".format(exergy_loss_valve / 1000))\n",
    "    print(\"蒸汽通过物料罐的㶲损为：{:.2f} kJ\".format(exergy_loss_tank / 1000))\n",
    "    print(\"蒸汽发生器的能耗为：{:.2f} kW·h\".format(eA.energy_of_steam_generator(t, m_v, eta_steamGenerator) * 0.0002778 / 1000))\n",
    "    return 0\n",
    "\n",
    "def steamingMCfit(MC_raw, remove, fitData = './process/The_MC_variation_during_the_steaming_process.csv'):\n",
    "    \"\"\"蒸制过程物料含水率的参数拟合\"\"\"\n",
    "    data = pd.read_csv(fitData)\n",
    "    data = np.array(data.iloc[:, :6].values)\n",
    "\n",
    "    j = 0\n",
    "    n = len(data)\n",
    "    t = np.zeros(n)\n",
    "\n",
    "\n",
    "    X0 = np.zeros(n)\n",
    "    X = np.zeros(n)\n",
    "    for i in range(0, n):\n",
    "        if data[i][3] == 0:\n",
    "            t[j] = data[i][0]\n",
    "            X0[j] = MC_raw\n",
    "            j += 1\n",
    "        else:\n",
    "            if data[i][0] - data[i - 1][0] > 0:\n",
    "                t[j] = data[i][0] - data[i - 1][0]\n",
    "                X0[j] = data[i - 1][5]\n",
    "                j += 1\n",
    "\n",
    "    j = 0\n",
    "    tau = np.zeros(n)\n",
    "    T = np.zeros(n)\n",
    "    for i in range(0, n - 1):\n",
    "        if data[i + 1][0] - data[i][0] == 0:\n",
    "            tau[j] = data[i][2]\n",
    "            T[j] = data[i][4]\n",
    "            X[j] = data[i][5]\n",
    "            j += 1\n",
    "\n",
    "    data_t = t[:j]\n",
    "    data_X0 = X0[:j]\n",
    "    data_tau = tau[:j]\n",
    "    data_T = T[:j]\n",
    "    data_X = X[:j]\n",
    "\n",
    "    # 去除异常数据\n",
    "    if remove.size > 0:\n",
    "        data_t = np.delete(data_t, remove)\n",
    "        data_tau = np.delete(data_tau, remove)\n",
    "        data_T = np.delete(data_T, remove)\n",
    "        data_X0 = np.delete(data_X0, remove)\n",
    "        data_X = np.delete(data_X, remove)\n",
    "    # print(data_t, data_tau, data_T, data_X0, data_X)\n",
    "\n",
    "    t, tau, T, X0, X = variables('t, tau, T, X0, X')\n",
    "    k, a1, b1, b2 = parameters('k, a1, b1, b2')\n",
    "\n",
    "    expr = (1 - exp(-k * t)) * ((a1 * T + b1) * log(tau + 1) + b2) + X0 * exp(-k * t)\n",
    "    model = Model({X: expr})\n",
    "\n",
    "    # 设置参数初始值及边界\n",
    "    # a1=-0.2335, b1=2.4007, a2=0.3830, b2=45.7341, C1=4.3970, k=0.2576\n",
    "\n",
    "    k.value, k.min, k.max = 0.2576, 0.01, 5.0\n",
    "    a1.value = -0.2335\n",
    "    b1.value = 2.4007\n",
    "    b2.value = 45.7341\n",
    "\n",
    "    fit = Fit(model, t=data_t, tau=data_tau, T=data_T, X0=data_X0, X=data_X)\n",
    "\n",
    "    fit_result = fit.execute()\n",
    "    return fit_result\n",
    "\n",
    "def steamingMC(t, tau, T, X0, MC_raw, X_predict = 'X_t', remove = [], fitData = './process/The_MC_variation_during_the_steaming_process.csv'):\n",
    "    \"\"\"\n",
    "    蒸制过程物料含水率的预测\n",
    "    :param t: 蒸制时间\n",
    "    :param tau: 干制总时间\n",
    "    :param T: 干制的平均温度\n",
    "    :param X0: 蒸制前的物料含水率\n",
    "    :param MC_raw: 原料含水率\n",
    "    :param remove: 要删除的数据的索引\n",
    "    :param fitData: 蒸制过程物料含水率的数据\n",
    "    :param X_predict: 预测值类型，'X_t'表示蒸制后的物料含水率，'X_eq'表示最大物料含水率\n",
    "    :return: 蒸制后的物料含水率预测值\n",
    "    \"\"\"\n",
    "    t = np.array(t)\n",
    "    tau = np.array(tau)\n",
    "    T = np.array(T)\n",
    "    X0 = np.array(X0)\n",
    "    remove = np.array(remove)\n",
    "\n",
    "    if os.path.isfile('./process/fit_result.pkl'):\n",
    "        print('物料含水率预测模型已经存在。')\n",
    "    else:\n",
    "        print('物料含水率预测模型拟合中...')\n",
    "        fit_result = steamingMCfit(MC_raw, remove, fitData)\n",
    "        print(fit_result)\n",
    "        # print(f\"R² = {fit_result.r_squared:.4f}\")\n",
    "        # 保存整个fit_result对象\n",
    "        with open(\"process/fit_result.pkl\", \"wb\") as f:\n",
    "            pickle.dump(fit_result, f)\n",
    "        # 加载恢复\n",
    "    with open(\"process/fit_result.pkl\", \"rb\") as f:\n",
    "        fit_result = pickle.load(f)\n",
    "\n",
    "    k = fit_result.params['k']\n",
    "    a1 = fit_result.params['a1']\n",
    "    b1 = fit_result.params['b1']\n",
    "    b2 = fit_result.params['b2']\n",
    "\n",
    "    t = np.array(t)\n",
    "    tau = np.array(tau)\n",
    "    T = np.array(T)\n",
    "    X0 = np.array(X0)\n",
    "\n",
    "    if X_predict == 'X_t':\n",
    "        return (1 - np.exp(-k * t)) * ((a1 * T + b1) * np.log(tau + 1) + b2) + X0 * exp(-k * t)\n",
    "    elif X_predict == 'X_eq':\n",
    "        return (a1 * T + b1) * np.log(tau + 1) + b2"
   ],
   "id": "f6e4c50618640765",
   "outputs": [],
   "execution_count": 54
  },
  {
   "metadata": {
    "ExecuteTime": {
     "end_time": "2025-08-05T08:29:06.145527Z",
     "start_time": "2025-08-05T08:29:06.044291Z"
    }
   },
   "cell_type": "code",
   "source": [
    "import numpy as np\n",
    "np.product = np.prod\n",
    "import pandas as pd\n",
    "from symfit import parameters, variables, exp, log, Fit, Model\n",
    "from process import energyAnalysis as eA\n",
    "import pickle\n",
    "import os\n",
    "\n",
    "\n",
    "fitData = './process/The_MC_variation_during_the_steaming_process.csv'\n",
    "MC_raw = 21.098\n",
    "\n",
    "data = pd.read_csv(fitData)\n",
    "data = np.array(data.iloc[:, :7].values)\n",
    "\n",
    "j = 0\n",
    "n = len(data)\n",
    "t = np.zeros(n)\n",
    "\n",
    "X0 = np.zeros(n)\n",
    "X = np.zeros(n)\n",
    "for i in range(0, n):\n",
    "    if data[i][3] == 0:\n",
    "        t[j] = data[i][0]\n",
    "        X0[j] = MC_raw\n",
    "        j += 1\n",
    "    else:\n",
    "        if data[i][0] - data[i - 1][0] > 0:\n",
    "            t[j] = data[i][0] - data[i - 1][0]\n",
    "            X0[j] = data[i - 1][5]\n",
    "            j += 1\n",
    "\n",
    "j = 0\n",
    "tau = np.zeros(n)\n",
    "T = np.zeros(n)\n",
    "energy = np.zeros(n)\n",
    "for i in range(0, n - 1):\n",
    "    if data[i + 1][0] - data[i][0] == 0:\n",
    "        tau[j] = data[i][2]\n",
    "        T[j] = data[i][4]\n",
    "        energy[j] = data[i][6]\n",
    "        j += 1\n",
    "        \n",
    "\n",
    "data_t = t[:j]\n",
    "data_X0 = X0[:j]\n",
    "data_tau = tau[:j]\n",
    "data_T = T[:j]\n",
    "data_energy = energy[:j]\n",
    "\n",
    "remove = []\n",
    "remove = np.array(remove)\n",
    "\n",
    "if remove.size > 0:\n",
    "    data_t = np.delete(data_t, remove)\n",
    "    data_tau = np.delete(data_tau, remove)\n",
    "    data_T = np.delete(data_T, remove)\n",
    "    data_X0 = np.delete(data_X0, remove)\n",
    "    \n",
    "data_Xeq = steamingMC(data_t, data_tau, data_T, data_X0, MC_raw, 'X_eq')\n",
    "\n",
    "data_power = data_Xeq - data_X0\n",
    "data_quantity = data_power / data_t\n",
    "data_mv = data_energy * 0.9 / 0.748175531 / data_t / 3600 * 10000\n",
    "\n",
    "print(data_power, data_quantity, data_mv)\n",
    "\n",
    "po, qua, mv = variables('po, qua, mv')\n",
    "a1, a2, a3, b = parameters('a1, a2, a3, b')\n",
    "\n",
    "expr = (a1*po*po + a2*po + a3) * log(b*qua)\n",
    "model = Model({mv: expr})\n",
    "\n",
    "# 设置参数初始值及边界\n",
    "# a1=0.0060, a2=-0.2880, a3=4.3711, b=19.4463\n",
    "\n",
    "b.value, b.min = 1, 1\n",
    "a1.value = 0.1\n",
    "a2.value = 0.1\n",
    "a3.value = 0.1\n",
    "\n",
    "fit = Fit(model, po=data_power, qua=data_quantity, mv=data_mv)\n",
    "\n",
    "fit_result_mv = fit.execute()\n",
    "print(fit_result_mv)\n",
    "\n"
   ],
   "id": "372d319fcb1d918b",
   "outputs": [
    {
     "name": "stdout",
     "output_type": "stream",
     "text": [
      "物料含水率预测模型已经存在。\n",
      "[35.3187629  12.42105719 15.17292339 35.3187629  13.09293439 11.78567041\n",
      " 11.78841733 12.53893869 13.25288725 35.3187629   2.19714158  6.18841744\n",
      "  8.97917849] [4.41484536 1.55263215 1.89661542 8.82969072 3.2732336  2.9464176\n",
      " 2.94710433 3.13473467 3.31322181 8.82969072 0.5492854  1.54710436\n",
      " 2.24479462] [ 7.29274051  6.22347271  4.57780275  9.40621513  6.59103352  6.3905458\n",
      "  6.36548484  6.26524098  6.22347271 10.17475136  9.67353208  8.8966422\n",
      "  8.47060581]\n",
      "\n",
      "Parameter Value        Standard Deviation\n",
      "a1        5.090152e-03 1.656226e-03\n",
      "a2        -2.322435e-01 7.874124e-02\n",
      "a3        3.402235e+00 9.840246e-01\n",
      "b         4.747102e+01 4.791855e+01\n",
      "Status message         CONVERGENCE: RELATIVE REDUCTION OF F <= FACTR*EPSMCH\n",
      "Number of iterations   81\n",
      "Objective              <symfit.core.objectives.LeastSquares object at 0x00000217A34AF6B0>\n",
      "Minimizer              <symfit.core.minimizers.LBFGSB object at 0x00000217A34AF020>\n",
      "\n",
      "Goodness of fit qualifiers:\n",
      "chi_squared            2.8920174537360093\n",
      "objective_value        1.4460087268680046\n",
      "r_squared              0.9174788672612734\n"
     ]
    }
   ],
   "execution_count": 68
  },
  {
   "metadata": {
    "jupyter": {
     "is_executing": true
    }
   },
   "cell_type": "code",
   "source": [
    "import numpy as np\n",
    "\n",
    "\n",
    "k = np.zeros(1, 2) \n",
    "print(k)"
   ],
   "id": "e5b1d4f1966d77a",
   "outputs": [],
   "execution_count": null
  },
  {
   "metadata": {
    "ExecuteTime": {
     "end_time": "2025-08-19T02:24:07.452144Z",
     "start_time": "2025-08-19T02:24:07.449591Z"
    }
   },
   "cell_type": "code",
   "source": [
    "for i in range(3):\n",
    "    print(i) "
   ],
   "id": "a7fc48c0275d97b6",
   "outputs": [
    {
     "name": "stdout",
     "output_type": "stream",
     "text": [
      "0\n",
      "1\n",
      "2\n"
     ]
    }
   ],
   "execution_count": 2
  },
  {
   "metadata": {
    "ExecuteTime": {
     "end_time": "2025-09-07T09:12:00.624933Z",
     "start_time": "2025-09-07T09:12:00.620319Z"
    }
   },
   "cell_type": "code",
   "source": [
    "import numpy as np\n",
    "np.product = np.prod\n",
    "import pandas as pd\n",
    "from symfit import parameters, variables, exp, log, Fit, Model\n",
    "from process import energyAnalysis as eA\n",
    "import pickle\n",
    "import os\n",
    "import random\n",
    "\n",
    "\n",
    "model_type = [1, 1]\n",
    "\n",
    "fitData = './process/The_MC_variation_during_the_steaming_process.csv'\n",
    "data_all = pd.read_csv(fitData)\n",
    "data_all =np.array(data_all).reshape(-1,5)\n",
    "data = np.array(random.choices(data_all, k=10))\n",
    "MC_0 = data[:,3]\n",
    "print(MC_0)"
   ],
   "id": "e330160cde4e7a77",
   "outputs": [
    {
     "name": "stdout",
     "output_type": "stream",
     "text": [
      "[22.85833 22.85833 21.098   14.844   21.098   20.614   21.098   21.098\n",
      " 14.844   17.342  ]\n"
     ]
    }
   ],
   "execution_count": 40
  },
  {
   "metadata": {
    "ExecuteTime": {
     "end_time": "2025-09-07T09:40:43.585093Z",
     "start_time": "2025-09-07T09:40:43.562099Z"
    }
   },
   "cell_type": "code",
   "source": [
    "import numpy as np\n",
    "np.product = np.prod\n",
    "import pandas as pd\n",
    "from symfit import parameters, variables, exp, log, Fit, Model\n",
    "from process import energyAnalysis as eA\n",
    "import pickle\n",
    "import os\n",
    "import random\n",
    "from sklearn.metrics import r2_score\n",
    "from scipy.stats import chi2_contingency\n",
    "\n",
    "\n",
    "\n",
    "def modelchoiceandfit(model_type):\n",
    "\n",
    "    fitData = './process/The_MC_variation_during_the_steaming_process.csv'\n",
    "    data_all = pd.read_csv(fitData)\n",
    "    data_all =np.array(data_all).reshape(-1,5)\n",
    "    data = np.array(random.choices(data_all, k=10))\n",
    "    \n",
    "    ## 模型选择   \n",
    "    match model_type[0]:\n",
    "        case 1:\n",
    "            # Newton             \n",
    "            if model_type[1] == 1:\n",
    "                t_s, MC_0, MC = variables('t_s, MC_0, MC')\n",
    "                k, MC_eq = parameters('k, MC_eq') \n",
    "                expr = MC_eq - (MC_eq - MC_0) * exp(-k * t_s)\n",
    "                model = Model({MC: expr})\n",
    "                k.value = 1\n",
    "                MC_eq.value = 0.1           \n",
    "            else:\n",
    "                hat_T_d, tau_d, t_s, MC_0, MC = variables('hat_T_d, tau_d, t_s, MC_0, MC')\n",
    "                a1, b1, C2, k = parameters('a1, b1, C2, k')\n",
    "                expr = ((a1 * hat_T_d + b1) * log(tau_d + 1) + C2) - (((a1 * hat_T_d + b1) * log(tau_d + 1) + C2) - MC_0) * exp(-k * t_s)\n",
    "                model = Model({MC: expr})\n",
    "                a1.value = 0.1\n",
    "                b1.value = 0.1\n",
    "                C2.value = 0.1\n",
    "                k.value = 1\n",
    "        case 2:\n",
    "            # Page\n",
    "            if model_type[1] == 1:\n",
    "                t_s, MC_0, MC = variables('t_s, MC_0, MC')\n",
    "                k, MC_eq, n = parameters('k, MC_eq, n') \n",
    "                expr = MC_eq - (MC_eq - MC_0) * exp(-k * t_s ** n)\n",
    "                model = Model({MC: expr})\n",
    "                k.value = 1\n",
    "                MC_eq.value = 0.1\n",
    "                n.value, n.min, n.max = 1, 0.1, 5\n",
    "            else:\n",
    "                hat_T_d, tau_d, t_s, MC_0, MC = variables('hat_T_d, tau_d, t_s, MC_0, MC')\n",
    "                a1, b1, C2, k, n = parameters('a1, b1, C2, k, n')\n",
    "                expr = ((a1 * hat_T_d + b1) * log(tau_d + 1) + C2) - (((a1 * hat_T_d + b1) * log(tau_d + 1) + C2) - MC_0) * exp(-k * t_s ** n)\n",
    "                model = Model({MC: expr})\n",
    "                a1.value = 0.1\n",
    "                b1.value = 0.1\n",
    "                C2.value = 0.1\n",
    "                k.value = 1\n",
    "                n.value, n.min, n.max = 1, 0.1, 5\n",
    "        case 3:\n",
    "            # Approximation of diffusion\n",
    "            if model_type[1] == 1:\n",
    "                t_s, MC_0, MC = variables('t_s, MC_0, MC')\n",
    "                k_1, MC_eq, k_2, a = parameters('k_1, MC_eq, k_2, a') \n",
    "                expr = (MC_eq - MC_0) * (a * exp(-k_1 * t_s) + (1-a) * exp(-k_2 * t_s)) + MC_0\n",
    "                model = Model({MC: expr})\n",
    "                k_1.value = 1\n",
    "                MC_eq.value = 0.1\n",
    "                k_2.value = 1\n",
    "                a.value = 0.1\n",
    "            else:\n",
    "                hat_T_d, tau_d, t_s, MC_0, MC = variables('hat_T_d, tau_d, t_s, MC_0, MC')\n",
    "                a1, b1, C2, k_1, k_2, a = parameters('a1, b1, C2, k_1, k_2, a')\n",
    "                expr = (((a1 * hat_T_d + b1) * log(tau_d + 1) + C2) - MC_0) * (a * exp(-k_1 * t_s) + (1-a) * exp(-k_2 * t_s)) + MC_0\n",
    "                model = Model({MC: expr})\n",
    "                a1.value = 0.1\n",
    "                b1.value = 0.1\n",
    "                C2.value = 0.1\n",
    "                k_1.value = 1\n",
    "                k_2.value = 1\n",
    "                a.value = 0.1\n",
    "        case 4:\n",
    "            # Two-term\n",
    "            if model_type[1] == 1:\n",
    "                t_s, MC_0, MC = variables('t_s, MC_0, MC')\n",
    "                k_1, MC_eq, k_2, a, b = parameters('k_1, MC_eq, k_2, a, b') \n",
    "                expr = (MC_eq - MC_0) * (a * exp(-k_1 * t_s) + b * exp(-k_2 * t_s)) + MC_0\n",
    "                model = Model({MC: expr})\n",
    "                k_1.value = 1\n",
    "                MC_eq.value = 0.1\n",
    "                k_2.value = 1\n",
    "                a.value = 0.1\n",
    "                b.value = 0.1\n",
    "            else:\n",
    "                hat_T_d, tau_d, t_s, MC_0, MC = variables('hat_T_d, tau_d, t_s, MC_0, MC')\n",
    "                a1, b1, C2, k_1, k_2, a, b = parameters('a1, b1, C2, k_1, k_2, a, b')\n",
    "                expr = (((a1 * hat_T_d + b1) * log(tau_d + 1) + C2) - MC_0) * (a * exp(-k_1 * t_s) + b * exp(-k_2 * t_s)) + MC_0\n",
    "                model = Model({MC: expr})\n",
    "                a1.value = 0.1\n",
    "                b1.value = 0.1\n",
    "                C2.value = 0.1\n",
    "                k_1.value = 1\n",
    "                k_2.value = 1\n",
    "                a.value = 0.1\n",
    "                b.value = 0.1\n",
    "    \n",
    "    if model_type[1] == 1:\n",
    "        fit = Fit(model, MC_0=data[:,3], t_s=data[:,0], MC=data[:,4])\n",
    "    else:\n",
    "        fit = Fit(model, MC_0=data[:,3], t_s=data[:,0], MC=data[:,4], hat_T_d=data[:,2], tau_d=data[:,1])\n",
    "    \n",
    "    fit_result = fit.execute()\n",
    "    print(fit_result)\n",
    "    return fit_result\n",
    "\n",
    "def modelassessment(fit_result, model_type):\n",
    "    fitData = './process/The_MC_variation_during_the_steaming_process.csv'\n",
    "    data_all = pd.read_csv(fitData)\n",
    "    data_all =np.array(data_all).reshape(-1,5)\n",
    "    t_s = data_all[:,0]\n",
    "    MC_0 = data_all[:,3]\n",
    "    MC = data_all[:,4]\n",
    "    hat_T_d = data_all[:,2]\n",
    "    tau_d = data_all[:,1]\n",
    "    \n",
    "    match model_type[0]:\n",
    "        case 1:\n",
    "            # Newton\n",
    "            if model_type[1] == 1:\n",
    "                k = fit_result.params['k']\n",
    "                MC_eq = fit_result.params['MC_eq']\n",
    "                MC_pred = MC_eq - (MC_eq - MC_0) * np.exp(-k * t_s)\n",
    "            else:\n",
    "                k = fit_result.params['k']\n",
    "                a1 = fit_result.params['a1']\n",
    "                b1 = fit_result.params['b1']\n",
    "                C2 = fit_result.params['C2']\n",
    "                MC_pred = ((a1 * hat_T_d + b1) * np.log(tau_d + 1) + C2) - (((a1 * hat_T_d + b1) * np.log(tau_d + 1) + C2) - MC_0) * np.exp(-k * t_s)\n",
    "        case 2:\n",
    "            # Page\n",
    "            if model_type[1] == 1:\n",
    "                k = fit_result.params['k']\n",
    "                MC_eq = fit_result.params['MC_eq']\n",
    "                n = fit_result.params['n']\n",
    "                MC_pred = MC_eq - (MC_eq - MC_0) * np.exp(-k * t_s ** n)\n",
    "            else:\n",
    "                k = fit_result.params['k']\n",
    "                a1 = fit_result.params['a1']\n",
    "                b1 = fit_result.params['b1']\n",
    "                C2 = fit_result.params['C2']\n",
    "                n = fit_result.params['n']\n",
    "                MC_pred = ((a1 * hat_T_d + b1) * np.log(tau_d + 1) + C2) - (((a1 * hat_T_d + b1) * np.log(tau_d + 1) + C2) - MC_0) * np.exp(-k * t_s ** n)\n",
    "        case 3:\n",
    "            # Approximation of diffusion\n",
    "            if model_type[1] == 1:\n",
    "                k_1 = fit_result.params['k_1']\n",
    "                MC_eq = fit_result.params['MC_eq']\n",
    "                k_2 = fit_result.params['k_2']\n",
    "                a = fit_result.params['a']\n",
    "                MC_pred = (MC_eq - MC_0) * (a * np.exp(-k_1 * t_s) + (1-a) * np.exp(-k_2 * t_s)) + MC_0\n",
    "            else:\n",
    "                k_1 = fit_result.params['k_1']\n",
    "                a1 = fit_result.params['a1']\n",
    "                b1 = fit_result.params['b1']\n",
    "                C2 = fit_result.params['C2']\n",
    "                k_2 = fit_result.params['k_2']\n",
    "                a = fit_result.params['a']\n",
    "                MC_pred = (((a1 * hat_T_d + b1) * np.log(tau_d + 1) + C2) - MC_0) * (a * np.exp(-k_1 * t_s) + (1-a) * np.exp(-k_2 * t_s)) + MC_0\n",
    "        case 4:\n",
    "            # Two-term\n",
    "            if model_type[1] == 1:\n",
    "                k_1 = fit_result.params['k_1']\n",
    "                MC_eq = fit_result.params['MC_eq']\n",
    "                k_2 = fit_result.params['k_2']\n",
    "                a = fit_result.params['a']\n",
    "                b = fit_result.params['b']\n",
    "                MC_pred = (MC_eq - MC_0) * (a * np.exp(-k_1 * t_s) + b * np.exp(-k_2 * t_s)) + MC_0\n",
    "            else:\n",
    "                k_1 = fit_result.params['k_1']\n",
    "                a1 = fit_result.params['a1']\n",
    "                b1 = fit_result.params['b1']\n",
    "                C2 = fit_result.params['C2']\n",
    "                k_2 = fit_result.params['k_2']\n",
    "                a = fit_result.params['a']\n",
    "                b = fit_result.params['b']\n",
    "                MC_pred = (((a1 * hat_T_d + b1) * np.log(tau_d + 1) + C2) - MC_0) * (a * np.exp(-k_1 * t_s) + b * np.exp(-k_2 * t_s)) + MC_0\n",
    "            \n",
    "    R2 = r2_score(MC, MC_pred)\n",
    "    chi2, p, dof, ex = chi2_contingency(np.array([MC, MC_pred]))\n",
    "    return R2, chi2, 1-p, dof\n",
    "\n",
    "\n",
    "\n",
    "\n"
   ],
   "id": "a50d6867e8deb0bc",
   "outputs": [],
   "execution_count": 72
  },
  {
   "metadata": {
    "ExecuteTime": {
     "end_time": "2025-09-07T09:43:12.498330Z",
     "start_time": "2025-09-07T09:43:11.560211Z"
    }
   },
   "cell_type": "code",
   "source": [
    "fit_result = modelchoiceandfit([1, 2])\n",
    "print(modelassessment(fit_result, [1, 2]))\n"
   ],
   "id": "f23dc9f9f2b63535",
   "outputs": [
    {
     "name": "stdout",
     "output_type": "stream",
     "text": [
      "\n",
      "Parameter Value        Standard Deviation\n",
      "C2        -7.199196e+05 1.419361e+07\n",
      "a1        -1.800414e+02 4.524090e+03\n",
      "b1        1.702333e+05 3.361715e+06\n",
      "k         -5.116055e-06 1.008595e-04\n",
      "Status message         Maximum number of iterations has been exceeded.\n",
      "Number of iterations   800\n",
      "Objective              <symfit.core.objectives.LeastSquares object at 0x0000021B3315B3B0>\n",
      "Minimizer              <symfit.core.minimizers.BFGS object at 0x0000021B331AB800>\n",
      "\n",
      "Goodness of fit qualifiers:\n",
      "chi_squared            76.93993387183127\n",
      "objective_value        38.469966935915636\n",
      "r_squared              0.8863740604124092\n",
      "(0.7717366694820313, np.float64(3.9131138729605257), np.float64(0.015046359201050241), 12)\n"
     ]
    }
   ],
   "execution_count": 92
  },
  {
   "metadata": {
    "jupyter": {
     "is_executing": true
    }
   },
   "cell_type": "code",
   "source": [
    "\n",
    "data_t = np.array([8, 8, 8, 4, 4, 4, 4, 4, 4, 4, 4, 4, 4])\n",
    "\n",
    "tau_s = np.array([])\n",
    "tau_s[0] = data_t[0]\n",
    "for i in range(1, len(data_t)):       \n",
    "    if data_t[i] == data_t[i-1]:\n",
    "        tau_s[i] = tau_s[i-1] + data_t[i]\n",
    "    else:\n",
    "        tau_s[i] = data_t[i]\n",
    "print(tau_s)"
   ],
   "id": "4abc5cc25c27499b",
   "outputs": [],
   "execution_count": null
  },
  {
   "metadata": {
    "ExecuteTime": {
     "end_time": "2025-09-12T01:36:58.383844Z",
     "start_time": "2025-09-12T01:36:58.380278Z"
    }
   },
   "cell_type": "code",
   "source": [
    "import csv\n",
    "import pandas as pd\n",
    "import numpy as np\n",
    "\n",
    "C = np.array([12.13376948, 6.876915825, 4.300802151, 12.93937476, 10.24416036, 8.276987612, 6.549559688, 5.219274922, 5.615255426, 23.6117448, 15.79785864, 11.68997219, 9.510836798])\n",
    "C = C.reshape(-1, 1).tolist()\n",
    "C.insert(0, [\"coff_result\"])\n",
    "print(C)\n",
    "with open('./process/coff_result.csv', 'w', newline='', encoding='utf-8') as file:\n",
    "    writer = csv.writer(file)\n",
    "    writer.writerows(C)"
   ],
   "id": "f07d9415f4278566",
   "outputs": [
    {
     "name": "stdout",
     "output_type": "stream",
     "text": [
      "[['coff_result'], [12.13376948], [6.876915825], [4.300802151], [12.93937476], [10.24416036], [8.276987612], [6.549559688], [5.219274922], [5.615255426], [23.6117448], [15.79785864], [11.68997219], [9.510836798]]\n"
     ]
    }
   ],
   "execution_count": 17
  },
  {
   "metadata": {
    "ExecuteTime": {
     "end_time": "2025-09-12T11:39:26.702522Z",
     "start_time": "2025-09-12T11:39:26.697482Z"
    }
   },
   "cell_type": "code",
   "source": [
    "from CoolProp import CoolProp\n",
    "import numpy as np\n",
    "\n",
    "T_d = 65+273.15\n",
    "R = 8.31446261815324\n",
    "M = 18.015\n",
    "Delta_m = np.array([25.21765201, 14.90857989, 10.33462179, 11.70131709, 3.893635863, 6.771376924, 2.677935944, 4.801165294, 4.976873173, 5.465968001, 8.279321715, 7.369965891, 7.661594776])\n",
    "\n",
    "A_m = np.pi*0.8**2*10/4\n",
    "t_d = 8*3600\n",
    "p_s = CoolProp.PropsSI(\"P\", \"T\", T_d, \"Q\", 1, \"Water\")  # 水的饱和压力 (Pa)\n",
    "p_v = 1.17*1000\n",
    "\n",
    "alpha = 2*Delta_m / (A_m*t_d*(p_s-p_v))*np.sqrt((2*np.pi*T_d*R*1000)/M)*(2-0.02)/0.04/4\n",
    "print(alpha)\n",
    "\n"
   ],
   "id": "4aadbf4481e351dc",
   "outputs": [
    {
     "name": "stdout",
     "output_type": "stream",
     "text": [
      "[1.78846565e-04 1.05733408e-04 7.32943577e-05 8.29871221e-05\n",
      " 2.76141252e-05 4.80234045e-05 1.89922378e-05 3.40504310e-05\n",
      " 3.52965720e-05 3.87652903e-05 5.87179269e-05 5.22686681e-05\n",
      " 5.43369346e-05]\n"
     ]
    }
   ],
   "execution_count": 58
  },
  {
   "metadata": {
    "ExecuteTime": {
     "end_time": "2025-09-12T09:41:11.062690Z",
     "start_time": "2025-09-12T09:41:11.059350Z"
    }
   },
   "cell_type": "code",
   "source": [
    "t_steaming = 8                  # 蒸制的时间(h)\n",
    "MC_raw = 21.098                 # 原料的含水率(%)\n",
    "EC_raw = 0                      # 原料的能耗(kWh/kg)\n",
    "WEP_raw = 49.87472              # 原料水提多糖含量(%)\n",
    "AEP_raw = 2.67019               # 原料碱提多糖含量(%)\n",
    "L_raw = 27.558                  # 原料明度L*\n",
    "b_raw = 8.781                   # 原料黄蓝度b*\n",
    "m_raw = 50.0                    # 原料质量(kg)\n",
    "T_environment = 20              # 环境温度(℃)\n",
    "global raw\n",
    "raw = [MC_raw, EC_raw, WEP_raw, AEP_raw, L_raw, b_raw]\n",
    "\n",
    "print(raw[0])"
   ],
   "id": "e30969f47b796ed4",
   "outputs": [
    {
     "name": "stdout",
     "output_type": "stream",
     "text": [
      "21.098\n"
     ]
    }
   ],
   "execution_count": 45
  },
  {
   "metadata": {
    "ExecuteTime": {
     "end_time": "2025-09-23T03:52:56.455613Z",
     "start_time": "2025-09-23T03:52:56.451326Z"
    }
   },
   "cell_type": "code",
   "source": [
    "import numpy as np\n",
    "import pandas as pd\n",
    "from process import energyAnalysis as eA\n",
    "from CoolProp import CoolProp\n",
    "from process import steamingProcess as sP\n",
    "from symfit import parameters, variables, exp, log, Fit, Model\n",
    "import pickle\n",
    "import globals\n",
    "import os\n",
    "import csv\n",
    "\n",
    "with open(\"process/资源包/13组干制含水率修正/fit_result_coff.pkl\", \"rb\") as f:\n",
    "    fit_result = pickle.load(f)\n",
    "    print(fit_result)\n",
    "\n"
   ],
   "id": "ed2438f273c30a6d",
   "outputs": [
    {
     "name": "stdout",
     "output_type": "stream",
     "text": [
      "\n",
      "Parameter Value        Standard Deviation\n",
      "a3        3.695540e-02 6.971413e-03\n",
      "b3        -7.925813e-01 2.685109e-01\n",
      "c3        -5.628676e+00 9.286306e-01\n",
      "d3        1.856327e-02 4.075607e-03\n",
      "f         2.047026e+02 3.202489e+01\n",
      "Status message         Desired error not necessarily achieved due to precision loss.\n",
      "Number of iterations   17\n",
      "Objective              <symfit.core.objectives.LeastSquares object at 0x0000022B8F713680>\n",
      "Minimizer              <symfit.core.minimizers.BFGS object at 0x0000022B8F7441D0>\n",
      "\n",
      "Goodness of fit qualifiers:\n",
      "chi_squared            11.42240814054361\n",
      "objective_value        5.711204070271805\n",
      "r_squared              0.9757526300445981\n"
     ]
    }
   ],
   "execution_count": 13
  },
  {
   "metadata": {},
   "cell_type": "code",
   "outputs": [],
   "execution_count": null,
   "source": "",
   "id": "7ad904b50b9bbb41"
  }
 ],
 "metadata": {
  "kernelspec": {
   "display_name": "Python 3",
   "language": "python",
   "name": "python3"
  },
  "language_info": {
   "codemirror_mode": {
    "name": "ipython",
    "version": 2
   },
   "file_extension": ".py",
   "mimetype": "text/x-python",
   "name": "python",
   "nbconvert_exporter": "python",
   "pygments_lexer": "ipython2",
   "version": "2.7.6"
  }
 },
 "nbformat": 4,
 "nbformat_minor": 5
}
